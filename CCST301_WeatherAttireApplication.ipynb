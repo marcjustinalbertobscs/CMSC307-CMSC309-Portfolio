{
  "nbformat": 4,
  "nbformat_minor": 0,
  "metadata": {
    "colab": {
      "provenance": [],
      "authorship_tag": "ABX9TyPK8vRsnjj/oauPPi627gQb",
      "include_colab_link": true
    },
    "kernelspec": {
      "name": "python3",
      "display_name": "Python 3"
    },
    "language_info": {
      "name": "python"
    }
  },
  "cells": [
    {
      "cell_type": "markdown",
      "metadata": {
        "id": "view-in-github",
        "colab_type": "text"
      },
      "source": [
        "<a href=\"https://colab.research.google.com/github/marcjustinalbertobscs/CMSC307-CMSC309-Portfolio/blob/main/CCST301_WeatherAttireApplication.ipynb\" target=\"_parent\"><img src=\"https://colab.research.google.com/assets/colab-badge.svg\" alt=\"Open In Colab\"/></a>"
      ]
    },
    {
      "cell_type": "markdown",
      "source": [
        "### **ABOUT THE PROGRAM**\n",
        "Welcome to the Tropical Outfit Recommender — an interactive program designed to suggest appropriate clothing and accessories based on current weather conditions and temperature in tropical regions.\n",
        "\n",
        "**Purpose**\n",
        "\n",
        "This program serves two main purposes:\n",
        "\n",
        "\n",
        "1.   Practical Utility: It provides quick, weather-appropriate outfit suggestions to help users stay comfortable in varying tropical conditions such as sun, rain, wind, or cloud cover.\n",
        "2.   Educational Value: It demonstrates the use of propositional logic and expert system principles in decision-making. By using logical rules based on weather inputs, the program mimics how an expert system makes recommendations — allowing users to understand how condition-based logic can be implemented in real-world applications.\n",
        "\n",
        "**Developed by:** Alberto, Marc Justin G. (BSCS3A)\n",
        "\n",
        "\n",
        "\n",
        "\n",
        "\n"
      ],
      "metadata": {
        "id": "kiN4HWkKfyZU"
      }
    },
    {
      "cell_type": "code",
      "execution_count": 1,
      "metadata": {
        "colab": {
          "base_uri": "https://localhost:8080/"
        },
        "id": "6EPbRxPoc-d0",
        "outputId": "3eea982e-653f-47f4-dbf6-45b65d023178"
      },
      "outputs": [
        {
          "output_type": "stream",
          "name": "stdout",
          "text": [
            "🌤️ Tropical Outfit Recommender 🌴\n",
            "What's the current weather? (sunny / rainy / cloudy / windy): cloudy\n",
            "What's the temperature in °C?: 45\n",
            "\n",
            "👕 Recommended Outfit:\n",
            "- Breathable shirt or blouse\n",
            "- Shorts or linen pants\n",
            "- Light sneakers or sandals\n",
            "\n",
            "Stay comfortable and hydrated! 💧\n"
          ]
        }
      ],
      "source": [
        "def outfit_recommender():\n",
        "    print(\"🌤️ Tropical Outfit Recommender 🌴\")\n",
        "\n",
        "    # Get user input\n",
        "    weather = input(\"What's the current weather? (sunny / rainy / cloudy / windy): \").lower()\n",
        "    temp = float(input(\"What's the temperature in °C?: \"))\n",
        "\n",
        "    print(\"\\n👕 Recommended Outfit:\")\n",
        "\n",
        "    if weather == \"sunny\":\n",
        "        if temp >= 30:\n",
        "            print(\"- Lightweight cotton shirt or tank top\")\n",
        "            print(\"- Shorts or a breathable skirt\")\n",
        "            print(\"- Sunglasses 🕶️\")\n",
        "            print(\"- Wide-brim hat 🧢\")\n",
        "            print(\"- Flip flops or sandals\")\n",
        "            print(\"- Sunscreen 🧴\")\n",
        "        elif temp >= 25:\n",
        "            print(\"- Linen shirt or t-shirt\")\n",
        "            print(\"- Light pants or shorts\")\n",
        "            print(\"- Sunglasses\")\n",
        "            print(\"- Cap or hat\")\n",
        "            print(\"- Sneakers or sandals\")\n",
        "    elif weather == \"rainy\":\n",
        "        print(\"- Waterproof jacket or poncho ☔\")\n",
        "        print(\"- Quick-dry shirt\")\n",
        "        print(\"- Cap or hood\")\n",
        "        print(\"- Light pants or shorts\")\n",
        "        print(\"- Waterproof shoes or sandals\")\n",
        "        print(\"- Umbrella 🌂\")\n",
        "    elif weather == \"cloudy\":\n",
        "        if temp >= 28:\n",
        "            print(\"- Breathable shirt or blouse\")\n",
        "            print(\"- Shorts or linen pants\")\n",
        "            print(\"- Light sneakers or sandals\")\n",
        "        else:\n",
        "            print(\"- T-shirt with light jacket\")\n",
        "            print(\"- Pants or long skirt\")\n",
        "            print(\"- Closed shoes\")\n",
        "    elif weather == \"windy\":\n",
        "        if temp >= 28:\n",
        "            print(\"- Light long-sleeved shirt (to avoid dust)\")\n",
        "            print(\"- Pants or midi skirt (avoid short skirts)\")\n",
        "            print(\"- Secure hat or cap\")\n",
        "            print(\"- Sneakers or closed-toe shoes\")\n",
        "            print(\"- Light windbreaker if breeze is strong\")\n",
        "        else:\n",
        "            print(\"- Light jacket or hoodie\")\n",
        "            print(\"- Long pants or jeans\")\n",
        "            print(\"- Sneakers or boots\")\n",
        "            print(\"- Avoid loose scarves or accessories\")\n",
        "    else:\n",
        "        print(\"❗ Unknown weather condition. Try 'sunny', 'rainy', 'cloudy', or 'windy'.\")\n",
        "\n",
        "    print(\"\\nStay comfortable and hydrated! 💧\")\n",
        "\n",
        "# Run the recommender\n",
        "outfit_recommender()"
      ]
    },
    {
      "cell_type": "markdown",
      "source": [
        "## **WEATHER ATTIRE RECOMMENDER RULES AND LOGIC**\n",
        "\n",
        "**Sunny Weather**\n",
        "\n",
        "If it is sunny and temperature ≥ 30°C, then recommend outfit O1 and O2 and O3\n",
        "(S ∧ T30) → (O1 ∧ O2 ∧ O3)\n",
        "\n",
        "If it is sunny and 25 ≤ temp < 30, recommend O1 and O3\n",
        "(S ∧ T25) → (O1 ∧ O3)\n",
        "\n",
        "**Rainy Weather**\n",
        "\n",
        "If it is rainy, then wear a waterproof jacket and carry an umbrella\n",
        "R → (O4 ∧ umbrella)\n",
        "\n",
        "**Cloudy Weather**\n",
        "\n",
        "If cloudy and temperature ≥ 28°C, recommend breathable shirt and shorts\n",
        "(C ∧ T28) → (breathable_top ∧ shorts)\n",
        "\n",
        "If cloudy and temperature < 28°C, recommend light jacket and long pants\n",
        "(C ∧ ¬T28) → (light_jacket ∧ long_pants)\n",
        "\n",
        "**Windy Weather**\n",
        "\n",
        "If windy and temp ≥ 28°C, wear long sleeves and closed shoes\n",
        "(W ∧ T28) → (long_sleeves ∧ closed_shoes)\n",
        "\n",
        "If windy and temp < 28°C, wear a windbreaker and long pants\n",
        "(W ∧ ¬T28) → (O5 ∧ long_pants)\n",
        "\n",
        "In any windy condition, avoid loose accessories\n",
        "W → ¬loose_accessories"
      ],
      "metadata": {
        "id": "yWb8e_1EdrE6"
      }
    },
    {
      "cell_type": "markdown",
      "source": [
        "## **DATA LEGEND**\n",
        "\n",
        "**Weather Conditions:**\n",
        "\n",
        "S: It is sunny.\n",
        "\n",
        "R: It is rainy.\n",
        "\n",
        "C: It is cloudy.\n",
        "\n",
        "W: It is windy.\n",
        "\n",
        "\n",
        "**Temperature Conditions:**\n",
        "\n",
        "T30: Temperature ≥ 30°C\n",
        "\n",
        "T25: Temperature ≥ 25°C ∧ Temperature < 30°C\n",
        "\n",
        "T28: Temperature ≥ 28°C\n",
        "\n",
        "\n",
        "Outfit Elements (example propositions):\n",
        "\n",
        "O1: Wear a cotton tank top or loose shirt\n",
        "\n",
        "O2: Wear shorts or a skirt\n",
        "\n",
        "O3: Carry sunglasses\n",
        "\n",
        "O4: Wear a waterproof jacket\n",
        "\n",
        "O5: Wear a light windbreaker\n",
        "\n",
        "O6: Avoid loose accessories"
      ],
      "metadata": {
        "id": "3IKmy4Nlf2Ef"
      }
    }
  ]
}